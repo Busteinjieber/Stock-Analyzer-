import yfinance as yf
import pandas as pd
import time
import matplotlib.pyplot as plt
import numpy as np

def get_stock_data():
    equity = pd.read_csv('Equity.csv')
    top_100_symbols = equity['SYMBOL'][:100]  
    start_time = time.time()
    
    for symbol in top_100_symbols:
        try:
            stock_symbol = symbol + ".NS"  # Add .NS to the symbol for NSE
            stock = yf.Ticker(stock_symbol) 
            
            data = stock.history(period="200d")
            dates = data.index[-50:]
            data = data.drop(columns=['Dividends', 'Stock Splits'])
            MA200 = data['Close'].sum() / 200
            Volume = data['Volume']
            Volume.to_csv('c.csv')
            
            data = stock.history(period="100d")
            data = data.drop(columns=['Dividends', 'Stock Splits'])
            MA100 = data['Close'].sum() / 100

            data = stock.history(period="50d")
            
            
            data = data.tail(50)
            data = data.drop(columns=['Dividends', 'Stock Splits'])
            MA50 = data['Close'].sum() / 50

            data = stock.history(period="1d")
            current_price = data['Close'].iloc[-1]
            
            if (MA200 >= current_price * 0.99) and (MA200 <= current_price * 1.01):
                print(f"{symbol}: The 200-day MA is matching, Current Price: {current_price:.2f}, 200-MA: {MA200:.2f}", flush=True)
                print(f"{symbol}: The 100-day MA is : {MA100:.2f}", flush=True)
                print(f"{symbol}: The 50-day MA is : {MA50:.2f}", flush=True)
                stock_symbol = symbol+".NS"  # Add .NS to the symbol for NSE
                stock = yf.Ticker(stock_symbol)
                i = 0  
                delta = stock.history(period="14d").Close.diff().fillna(0)
                gain = delta.where(delta > 0, 0)
                gain1 = gain.iloc[i:i+13]
                loss = -delta.where(delta < 0, 0)
                loss1 = loss.iloc[i:i+13]
                gain1.to_csv('b.csv')
                loss1.to_csv('c.csv')
                countg = (gain1 > 0).sum()
                countl = (loss1 > 0).sum()
                gain2 = gain1.sum()
                loss2 = loss1.sum()
                avg_gain = gain2 / countg if countg != 0 else 0
                avg_loss = loss2 / countl if countl != 0 else 0
                rs = avg_gain / avg_loss if avg_loss != 0 else 0
                rsi = 100 - (100 / (1 + rs)) if rs != 0 else 0
                print(f"{stock_symbol}: Current RSI: {rsi}", flush=True)
    # Convert Volume to NumPy array before plotting
                Volume_array = Volume.tail(50).values

                # Calculate moving average
                window_size = 5  # You can adjust this value for a smoother or more responsive curve
                moving_average = np.convolve(Volume_array, np.ones(window_size)/window_size, mode='valid')

                # Plotting the bar graph for 20 days of Volume with scaling
                plt.figure(figsize=(12, 6))
                plt.bar(dates, Volume_array / 1e7, label=f'{symbol} - 50 Days Volume (in Crores)')

                # Plot the moving average line with broader width
                plt.plot(dates[window_size-1:], moving_average / 1e7, label='Moving Average', color='orange', linewidth=2)

                plt.xlabel('Date')
                plt.ylabel('Volume')
                plt.title(f'{symbol} - 50 Days Volume')
                plt.xticks(rotation=45, ha="right")  # Rotate x-axis labels for better readability
                plt.yticks(np.arange(0, max(Volume_array) / 1e7 + 1, 2))  # Adjust y-axis ticks to whole numbers
                plt.legend()
                plt.tight_layout()  # Ensure the labels are not cut off
                plt.show()
                
            if (MA100 >= current_price * 0.99) and (MA100 <= current_price * 1.01):
                print(f"{symbol}: The 100-day MA is matching, Current Price: {current_price:.2f}, 100-MA: {MA100:.2f}", flush=True)
                print(f"{symbol}: The 200-day MA is : {MA200:.2f}", flush=True)
                print(f"{symbol}: The 50-day MA is : {MA50:.2f}", flush=True)
                stock_symbol = symbol+".NS"  # Add .NS to the symbol for NSE
                stock = yf.Ticker(stock_symbol)
                i = 0  
                delta = stock.history(period="14d").Close.diff().fillna(0)
                gain = delta.where(delta > 0, 0)
                gain1 = gain.iloc[i:i+13]
                loss = -delta.where(delta < 0, 0)
                loss1 = loss.iloc[i:i+13]
                gain1.to_csv('b.csv')
                loss1.to_csv('c.csv')
                countg = (gain1 > 0).sum()
                countl = (loss1 > 0).sum()
                gain2 = gain1.sum()
                loss2 = loss1.sum()
                avg_gain = gain2 / countg if countg != 0 else 0
                avg_loss = loss2 / countl if countl != 0 else 0
                rs = avg_gain / avg_loss if avg_loss != 0 else 0
                rsi = 100 - (100 / (1 + rs)) if rs != 0 else 0
                print(f"{stock_symbol}: Current RSI: {rsi}", flush=True)
                        # Convert Volume to NumPy array before plotting
                Volume_array = Volume.tail(50).values

                # Calculate moving average
                window_size = 5 # You can adjust this value for a smoother or more responsive curve
                moving_average = np.convolve(Volume_array, np.ones(window_size)/window_size, mode='valid')

                # Plotting the bar graph for 20 days of Volume with scaling
                plt.figure(figsize=(12, 6))
                plt.bar(dates, Volume_array / 1e7, label=f'{symbol} - 50 Days Volume (in Crores)')

                # Plot the moving average line with broader width
                plt.plot(dates[window_size-1:], moving_average / 1e7, label='Moving Average', color='orange', linewidth=2)

                plt.xlabel('Date')
                plt.ylabel('Volume')
                plt.title(f'{symbol} - 50 Days Volume')
                plt.xticks(rotation=45, ha="right")  # Rotate x-axis labels for better readability
                plt.yticks(np.arange(0, max(Volume_array) / 1e7 + 1, 2))  # Adjust y-axis ticks to whole numbers
                plt.legend()
                plt.tight_layout()  # Ensure the labels are not cut off
                plt.show()
                
            if (MA50 >= current_price * 0.99) and (MA50 <= current_price * 1.01):
                print(f"{symbol}: The 50-day MA is matching, Current Price: {current_price:.2f}, 50-MA: {MA50:.2f}", flush=True)
                print(f"{symbol}: The 100-day MA is : {MA100:.2f}", flush=True)
                print(f"{symbol}: The 200-day MA is : {MA200:.2f}", flush=True)
                
                stock_symbol = symbol+".NS"  # Add .NS to the symbol for NSE
                stock = yf.Ticker(stock_symbol)
                i = 0  
                delta = stock.history(period="14d").Close.diff().fillna(0)
                delta.to_csv('z.csv')

                gain = delta.where(delta > 0, 0)
                gain1 = gain.iloc[i:i+13]
                loss = -delta.where(delta < 0, 0)
                loss1 = loss.iloc[i:i+13]
                gain1.to_csv('b.csv')
                loss1.to_csv('c.csv')
                countg = (gain1 > 0).sum()
                countl = (loss1 > 0).sum()
                gain2 = gain1.sum()
                loss2 = loss1.sum()
                avg_gain = gain2 / countg if countg != 0 else 0
                avg_loss = loss2 / countl if countl != 0 else 0
                rs = avg_gain / avg_loss if avg_loss != 0 else 0
                rsi = 100 - (100 / (1 + rs)) if rs != 0 else 0
                print(f"{stock_symbol}: Current RSI: {rsi}", flush=True)
                
        # Convert Volume to NumPy array before plotting
                Volume_array = Volume.tail(50).values

                # Calculate moving average
                window_size = 5 # You can adjust this value for a smoother or more responsive curve
                moving_average = np.convolve(Volume_array, np.ones(window_size)/window_size, mode='valid')

                # Plotting the bar graph for 20 days of Volume with scaling
                plt.figure(figsize=(12, 6))
                plt.bar(dates, Volume_array / 1e7, label=f'{symbol} - 50 Days Volume (in Crores)')

                # Plot the moving average line with broader width
                plt.plot(dates[window_size-1:], moving_average / 1e7, label='Moving Average', color='orange', linewidth=2)

                plt.xlabel('Date')
                plt.ylabel('Volume')
                plt.title(f'{symbol} - 50 Days Volume')
                plt.xticks(rotation=45, ha="right")  # Rotate x-axis labels for better readability
                plt.yticks(np.arange(0, max(Volume_array) / 1e7 + 1, 2))  # Adjust y-axis ticks to whole numbers
                plt.legend()
                plt.tight_layout()  # Ensure the labels are not cut off
                plt.show()
        except Exception as e:
            print(f"An error occurred for {symbol}: {str(e)}", flush=True)
            
    
    end_time = time.time()
    elapsed_time = end_time - start_time
    print(f"Time taken: {elapsed_time:.2f} seconds")

if __name__ == "__main__":
    get_stock_data()
